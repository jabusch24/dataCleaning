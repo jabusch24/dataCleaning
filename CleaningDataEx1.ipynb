{
 "cells": [
  {
   "cell_type": "code",
   "execution_count": 65,
   "metadata": {},
   "outputs": [],
   "source": [
    "import pandas as pd\n",
    "import numpy as np"
   ]
  },
  {
   "cell_type": "markdown",
   "metadata": {},
   "source": [
    "In our example, we assume that we are a software company and the demodata represents a list of users of our software. We store their data in order to reach them via email for admin and marketing purposes, address them by name and create a customized marketing and promotion experience based on age and gender information. "
   ]
  },
  {
   "cell_type": "code",
   "execution_count": 66,
   "metadata": {},
   "outputs": [],
   "source": [
    "df_users = pd.read_csv(\"documentpath.csv\", index_col=0)"
   ]
  },
  {
   "cell_type": "markdown",
   "metadata": {},
   "source": [
    "First of all, we will get rid of all fully duplicate rows, as their is no need for duplicate data sets. "
   ]
  },
  {
   "cell_type": "code",
   "execution_count": 67,
   "metadata": {},
   "outputs": [],
   "source": [
    "df_users = df_users.drop_duplicates()"
   ]
  },
  {
   "cell_type": "markdown",
   "metadata": {},
   "source": [
    "Secondly, we want to drop all rows with only NaN values."
   ]
  },
  {
   "cell_type": "code",
   "execution_count": 68,
   "metadata": {},
   "outputs": [],
   "source": [
    "df_users = df_users[df_users.isnull().all(axis=1)==False]"
   ]
  },
  {
   "cell_type": "markdown",
   "metadata": {},
   "source": [
    "We want to clean the age column. In order to do so, we first identify the values that are not ints. Due to the simplicity of our users, we turn phrases like \"old\" or negative values in range into valid values. "
   ]
  },
  {
   "cell_type": "code",
   "execution_count": 69,
   "metadata": {},
   "outputs": [],
   "source": [
    "iterator = 0\n",
    "iteratorList = []\n",
    "for cell in df_users[\"age\"]:\n",
    "    try:\n",
    "        int(cell)\n",
    "        iterator+=1\n",
    "    except ValueError:\n",
    "        iteratorList.append(iterator)\n",
    "        iterator+=1\n",
    "\n",
    "# use the generated lists of indices to change values of \"old\" entries.\n",
    "id_old = df_users.iloc[iteratorList][\"age\"] == \"old\"\n",
    "id_old = id_old.reset_index()\n",
    "df_users[\"age\"].loc[id_old[\"id\"]] = 70\n",
    "\n",
    "df_users[\"age\"] = df_users[\"age\"].astype(int)"
   ]
  },
  {
   "cell_type": "markdown",
   "metadata": {},
   "source": [
    "Next, we check whether the values are negative. If they are negative but the absolute value is in range, we turn the number positive as we assume our customers entered the \"-\" by accident. Age information only serves the purpose of marketing anyway."
   ]
  },
  {
   "cell_type": "code",
   "execution_count": 70,
   "metadata": {},
   "outputs": [],
   "source": [
    "df_users.loc[df_users[\"age\"]<0,\"age\"] = -(df_users.loc[df_users[\"age\"]<0,\"age\"])"
   ]
  },
  {
   "cell_type": "markdown",
   "metadata": {},
   "source": [
    "Customer information is only relevant if an email address is available, thus we drop all rows with no email address."
   ]
  },
  {
   "cell_type": "code",
   "execution_count": 71,
   "metadata": {},
   "outputs": [],
   "source": [
    "df_users = df_users[df_users.isnull().any(axis=1)==False]"
   ]
  },
  {
   "cell_type": "markdown",
   "metadata": {},
   "source": [
    "We are now done with the small data cleaning exercise and are left with a clean table. The last thing we should do before running analysis on the data is to reset the index for facilitated calling of data."
   ]
  },
  {
   "cell_type": "code",
   "execution_count": 72,
   "metadata": {},
   "outputs": [
    {
     "data": {
      "text/html": [
       "<div>\n",
       "<style scoped>\n",
       "    .dataframe tbody tr th:only-of-type {\n",
       "        vertical-align: middle;\n",
       "    }\n",
       "\n",
       "    .dataframe tbody tr th {\n",
       "        vertical-align: top;\n",
       "    }\n",
       "\n",
       "    .dataframe thead th {\n",
       "        text-align: right;\n",
       "    }\n",
       "</style>\n",
       "<table border=\"1\" class=\"dataframe\">\n",
       "  <thead>\n",
       "    <tr style=\"text-align: right;\">\n",
       "      <th></th>\n",
       "      <th>full_name</th>\n",
       "      <th>first_name</th>\n",
       "      <th>last_name</th>\n",
       "      <th>email</th>\n",
       "      <th>gender</th>\n",
       "      <th>age</th>\n",
       "    </tr>\n",
       "  </thead>\n",
       "  <tbody>\n",
       "    <tr>\n",
       "      <th>0</th>\n",
       "      <td>Mariel Finnigan</td>\n",
       "      <td>Mariel</td>\n",
       "      <td>Finnigan</td>\n",
       "      <td>mfinnigan0@usda.gov</td>\n",
       "      <td>Female</td>\n",
       "      <td>60</td>\n",
       "    </tr>\n",
       "    <tr>\n",
       "      <th>1</th>\n",
       "      <td>Kenyon Possek</td>\n",
       "      <td>Kenyon</td>\n",
       "      <td>Possek</td>\n",
       "      <td>kpossek1@ucoz.com</td>\n",
       "      <td>Male</td>\n",
       "      <td>12</td>\n",
       "    </tr>\n",
       "    <tr>\n",
       "      <th>2</th>\n",
       "      <td>Lalo Manifould</td>\n",
       "      <td>Lalo</td>\n",
       "      <td>Manifould</td>\n",
       "      <td>lmanifould2@pbs.org</td>\n",
       "      <td>Male</td>\n",
       "      <td>26</td>\n",
       "    </tr>\n",
       "    <tr>\n",
       "      <th>3</th>\n",
       "      <td>Nickola Carous</td>\n",
       "      <td>Nickola</td>\n",
       "      <td>Carous</td>\n",
       "      <td>ncarous3@phoca.cz</td>\n",
       "      <td>Male</td>\n",
       "      <td>4</td>\n",
       "    </tr>\n",
       "    <tr>\n",
       "      <th>4</th>\n",
       "      <td>Norman Dubbin</td>\n",
       "      <td>Norman</td>\n",
       "      <td>Dubbin</td>\n",
       "      <td>ndubbin4@wikipedia.org</td>\n",
       "      <td>Male</td>\n",
       "      <td>17</td>\n",
       "    </tr>\n",
       "    <tr>\n",
       "      <th>5</th>\n",
       "      <td>Franz Castello</td>\n",
       "      <td>Franz</td>\n",
       "      <td>Castello</td>\n",
       "      <td>fcastello6@1688.com</td>\n",
       "      <td>Male</td>\n",
       "      <td>25</td>\n",
       "    </tr>\n",
       "    <tr>\n",
       "      <th>6</th>\n",
       "      <td>Jorge Tarney</td>\n",
       "      <td>Jorge</td>\n",
       "      <td>Tarney</td>\n",
       "      <td>jtarney7@ft.com</td>\n",
       "      <td>Male</td>\n",
       "      <td>77</td>\n",
       "    </tr>\n",
       "    <tr>\n",
       "      <th>7</th>\n",
       "      <td>Eunice Blakebrough</td>\n",
       "      <td>Eunice</td>\n",
       "      <td>Blakebrough</td>\n",
       "      <td>eblakebrough8@sohu.com</td>\n",
       "      <td>Female</td>\n",
       "      <td>45</td>\n",
       "    </tr>\n",
       "    <tr>\n",
       "      <th>8</th>\n",
       "      <td>Kristopher Frankcombe</td>\n",
       "      <td>Kristopher</td>\n",
       "      <td>Frankcombe</td>\n",
       "      <td>kfrankcombe9@slate.com</td>\n",
       "      <td>Male</td>\n",
       "      <td>70</td>\n",
       "    </tr>\n",
       "    <tr>\n",
       "      <th>9</th>\n",
       "      <td>Palm Domotor</td>\n",
       "      <td>Palm</td>\n",
       "      <td>Domotor</td>\n",
       "      <td>pdomotora@github.io</td>\n",
       "      <td>Male</td>\n",
       "      <td>6</td>\n",
       "    </tr>\n",
       "    <tr>\n",
       "      <th>10</th>\n",
       "      <td>Luz Lansdowne</td>\n",
       "      <td>Luz</td>\n",
       "      <td>Lansdowne</td>\n",
       "      <td>llansdowneb@theguardian.com</td>\n",
       "      <td>Female</td>\n",
       "      <td>16</td>\n",
       "    </tr>\n",
       "    <tr>\n",
       "      <th>11</th>\n",
       "      <td>Modestia Keble</td>\n",
       "      <td>Modestia</td>\n",
       "      <td>Keble</td>\n",
       "      <td>mkeblec@cmu.edu</td>\n",
       "      <td>Female</td>\n",
       "      <td>91</td>\n",
       "    </tr>\n",
       "    <tr>\n",
       "      <th>12</th>\n",
       "      <td>Stacee Bovis</td>\n",
       "      <td>Stacee</td>\n",
       "      <td>Bovis</td>\n",
       "      <td>sbovisd@webeden.co.uk</td>\n",
       "      <td>Female</td>\n",
       "      <td>22</td>\n",
       "    </tr>\n",
       "    <tr>\n",
       "      <th>13</th>\n",
       "      <td>Eden Wace</td>\n",
       "      <td>Eden</td>\n",
       "      <td>Wace</td>\n",
       "      <td>ewacee@marriott.com</td>\n",
       "      <td>Female</td>\n",
       "      <td>16</td>\n",
       "    </tr>\n",
       "    <tr>\n",
       "      <th>14</th>\n",
       "      <td>Tobias Sherburn</td>\n",
       "      <td>Tobias</td>\n",
       "      <td>Sherburn</td>\n",
       "      <td>tsherburnf@facebook.com</td>\n",
       "      <td>Male</td>\n",
       "      <td>2</td>\n",
       "    </tr>\n",
       "    <tr>\n",
       "      <th>15</th>\n",
       "      <td>Clair Skillern</td>\n",
       "      <td>Clair</td>\n",
       "      <td>Skillern</td>\n",
       "      <td>cskillerng@nih.gov</td>\n",
       "      <td>Male</td>\n",
       "      <td>78</td>\n",
       "    </tr>\n",
       "    <tr>\n",
       "      <th>16</th>\n",
       "      <td>Mathew Addicott</td>\n",
       "      <td>Mathew</td>\n",
       "      <td>Addicott</td>\n",
       "      <td>maddicotth@acquirethisname.com</td>\n",
       "      <td>Male</td>\n",
       "      <td>65</td>\n",
       "    </tr>\n",
       "    <tr>\n",
       "      <th>17</th>\n",
       "      <td>Maurits Shawl</td>\n",
       "      <td>Maurits</td>\n",
       "      <td>Shawl</td>\n",
       "      <td>mshawlj@dmoz.org</td>\n",
       "      <td>Male</td>\n",
       "      <td>72</td>\n",
       "    </tr>\n",
       "  </tbody>\n",
       "</table>\n",
       "</div>"
      ],
      "text/plain": [
       "                full_name  first_name    last_name  \\\n",
       "0         Mariel Finnigan      Mariel     Finnigan   \n",
       "1           Kenyon Possek      Kenyon       Possek   \n",
       "2          Lalo Manifould        Lalo    Manifould   \n",
       "3          Nickola Carous     Nickola       Carous   \n",
       "4           Norman Dubbin      Norman       Dubbin   \n",
       "5          Franz Castello       Franz     Castello   \n",
       "6            Jorge Tarney       Jorge       Tarney   \n",
       "7      Eunice Blakebrough      Eunice  Blakebrough   \n",
       "8   Kristopher Frankcombe  Kristopher   Frankcombe   \n",
       "9            Palm Domotor        Palm      Domotor   \n",
       "10          Luz Lansdowne         Luz    Lansdowne   \n",
       "11         Modestia Keble    Modestia        Keble   \n",
       "12           Stacee Bovis      Stacee        Bovis   \n",
       "13              Eden Wace        Eden         Wace   \n",
       "14        Tobias Sherburn      Tobias     Sherburn   \n",
       "15         Clair Skillern       Clair     Skillern   \n",
       "16        Mathew Addicott      Mathew     Addicott   \n",
       "17          Maurits Shawl     Maurits        Shawl   \n",
       "\n",
       "                             email  gender  age  \n",
       "0              mfinnigan0@usda.gov  Female   60  \n",
       "1                kpossek1@ucoz.com    Male   12  \n",
       "2              lmanifould2@pbs.org    Male   26  \n",
       "3                ncarous3@phoca.cz    Male    4  \n",
       "4           ndubbin4@wikipedia.org    Male   17  \n",
       "5              fcastello6@1688.com    Male   25  \n",
       "6                  jtarney7@ft.com    Male   77  \n",
       "7           eblakebrough8@sohu.com  Female   45  \n",
       "8           kfrankcombe9@slate.com    Male   70  \n",
       "9              pdomotora@github.io    Male    6  \n",
       "10     llansdowneb@theguardian.com  Female   16  \n",
       "11                 mkeblec@cmu.edu  Female   91  \n",
       "12           sbovisd@webeden.co.uk  Female   22  \n",
       "13             ewacee@marriott.com  Female   16  \n",
       "14         tsherburnf@facebook.com    Male    2  \n",
       "15              cskillerng@nih.gov    Male   78  \n",
       "16  maddicotth@acquirethisname.com    Male   65  \n",
       "17                mshawlj@dmoz.org    Male   72  "
      ]
     },
     "execution_count": 72,
     "metadata": {},
     "output_type": "execute_result"
    }
   ],
   "source": [
    "df_users = df_users.reset_index(drop=True)\n",
    "df_users"
   ]
  }
 ],
 "metadata": {
  "kernelspec": {
   "display_name": "Python 3",
   "language": "python",
   "name": "python3"
  },
  "language_info": {
   "codemirror_mode": {
    "name": "ipython",
    "version": 3
   },
   "file_extension": ".py",
   "mimetype": "text/x-python",
   "name": "python",
   "nbconvert_exporter": "python",
   "pygments_lexer": "ipython3",
   "version": "3.6.4"
  }
 },
 "nbformat": 4,
 "nbformat_minor": 2
}
